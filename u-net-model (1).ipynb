{
 "cells": [
  {
   "cell_type": "code",
   "execution_count": null,
   "metadata": {
    "_cell_guid": "b1076dfc-b9ad-4769-8c92-a6c4dae69d19",
    "_uuid": "8f2839f25d086af736a60e9eeb907d3b93b6e0e5",
    "execution": {
     "iopub.execute_input": "2021-05-26T14:03:03.348Z",
     "iopub.status.busy": "2021-05-26T14:03:03.347615Z",
     "iopub.status.idle": "2021-05-26T14:03:03.358548Z",
     "shell.execute_reply": "2021-05-26T14:03:03.356589Z",
     "shell.execute_reply.started": "2021-05-26T14:03:03.347969Z"
    }
   },
   "outputs": [],
   "source": [
    "import os\n",
    "import numpy as np\n",
    "import pandas as pd\n",
    "import matplotlib.pyplot as plt\n",
    "import seaborn as sns\n",
    "import zipfile\n",
    "import cv2\n",
    "from skimage import io\n",
    "\n",
    "import tensorflow as tf\n",
    "from tensorflow.python.keras import Sequential\n",
    "from tensorflow.keras import layers, optimizers\n",
    "from tensorflow.keras.layers import *\n",
    "from tensorflow.keras.models import Model\n",
    "from tensorflow.keras.initializers import glorot_uniform\n",
    "from tensorflow.keras.utils import plot_model\n",
    "from tensorflow.keras.callbacks import ReduceLROnPlateau, EarlyStopping, ModelCheckpoint, LearningRateScheduler\n",
    "import tensorflow.keras.backend as K\n",
    "\n",
    "import random\n",
    "import glob\n",
    "from sklearn.preprocessing import StandardScaler, normalize\n",
    "from IPython.display import display"
   ]
  },
  {
   "cell_type": "code",
   "execution_count": null,
   "metadata": {
    "execution": {
     "iopub.execute_input": "2021-05-26T14:03:03.361276Z",
     "iopub.status.busy": "2021-05-26T14:03:03.360853Z",
     "iopub.status.idle": "2021-05-26T14:03:03.474187Z",
     "shell.execute_reply": "2021-05-26T14:03:03.472775Z",
     "shell.execute_reply.started": "2021-05-26T14:03:03.361244Z"
    }
   },
   "outputs": [],
   "source": [
    "data_map = []\n",
    "for sub_dir_path in glob.glob(\"/kaggle/input/lgg-mri-segmentation/kaggle_3m/\"+\"*\"):\n",
    "    #if os.path.isdir(sub_path_dir):\n",
    "    try:\n",
    "        dir_name = sub_dir_path.split('/')[-1]\n",
    "        for filename in os.listdir(sub_dir_path):\n",
    "            image_path = sub_dir_path + '/' + filename\n",
    "            data_map.extend([dir_name, image_path])\n",
    "    except Exception as e:\n",
    "        print(e)"
   ]
  },
  {
   "cell_type": "code",
   "execution_count": null,
   "metadata": {
    "execution": {
     "iopub.execute_input": "2021-05-26T14:03:03.476707Z",
     "iopub.status.busy": "2021-05-26T14:03:03.476354Z",
     "iopub.status.idle": "2021-05-26T14:03:03.493549Z",
     "shell.execute_reply": "2021-05-26T14:03:03.492289Z",
     "shell.execute_reply.started": "2021-05-26T14:03:03.476675Z"
    }
   },
   "outputs": [],
   "source": [
    "df = pd.DataFrame({\"patient_id\" : data_map[::2],\n",
    "                   \"path\" : data_map[1::2]})\n",
    "df.head()"
   ]
  },
  {
   "cell_type": "code",
   "execution_count": null,
   "metadata": {
    "execution": {
     "iopub.execute_input": "2021-05-26T14:03:03.495514Z",
     "iopub.status.busy": "2021-05-26T14:03:03.495226Z",
     "iopub.status.idle": "2021-05-26T14:03:03.521896Z",
     "shell.execute_reply": "2021-05-26T14:03:03.520971Z",
     "shell.execute_reply.started": "2021-05-26T14:03:03.495485Z"
    }
   },
   "outputs": [],
   "source": [
    "df_imgs = df[~df['path'].str.contains(\"mask\")]\n",
    "df_masks = df[df['path'].str.contains(\"mask\")]\n",
    "\n",
    "# File path line length images for later sorting\n",
    "BASE_LEN = 89 # len(/kaggle/input/lgg-mri-segmentation/kaggle_3m/TCGA_DU_6404_19850629/TCGA_DU_6404_19850629_ <-!!!43.tif)\n",
    "END_IMG_LEN = 4 # len(/kaggle/input/lgg-mri-segmentation/kaggle_3m/TCGA_DU_6404_19850629/TCGA_DU_6404_19850629_43 !!!->.tif)\n",
    "END_MASK_LEN = 9 # (/kaggle/input/lgg-mri-segmentation/kaggle_3m/TCGA_DU_6404_19850629/TCGA_DU_6404_19850629_43 !!!->_mask.tif)\n",
    "\n",
    "# Data sorting\n",
    "imgs = sorted(df_imgs[\"path\"].values, key=lambda x : int(x[BASE_LEN:-END_IMG_LEN]))\n",
    "masks = sorted(df_masks[\"path\"].values, key=lambda x : int(x[BASE_LEN:-END_MASK_LEN]))\n",
    "\n",
    "# Sorting check\n",
    "idx = random.randint(0, len(imgs)-1)\n",
    "print(\"Path to the Image:\", imgs[idx], \"\\nPath to the Mask:\", masks[idx])"
   ]
  },
  {
   "cell_type": "code",
   "execution_count": null,
   "metadata": {
    "execution": {
     "iopub.execute_input": "2021-05-26T14:03:03.523419Z",
     "iopub.status.busy": "2021-05-26T14:03:03.52319Z",
     "iopub.status.idle": "2021-05-26T14:03:11.913334Z",
     "shell.execute_reply": "2021-05-26T14:03:11.911539Z",
     "shell.execute_reply.started": "2021-05-26T14:03:03.523392Z"
    }
   },
   "outputs": [],
   "source": [
    "brain_df = pd.DataFrame({\"patient_id\": df_imgs.patient_id.values,\n",
    "                         \"image_path\": imgs,\n",
    "                         \"mask_path\": masks\n",
    "                        })\n",
    "def pos_neg_diagnosis(mask_path):\n",
    "    value = np.max(cv2.imread(mask_path))\n",
    "    if value > 0 : \n",
    "        return 1\n",
    "    else:\n",
    "        return 0\n",
    "    \n",
    "brain_df['mask'] = brain_df['mask_path'].apply(lambda x: pos_neg_diagnosis(x))\n",
    "brain_df"
   ]
  },
  {
   "cell_type": "code",
   "execution_count": null,
   "metadata": {
    "execution": {
     "iopub.execute_input": "2021-05-26T14:03:11.917033Z",
     "iopub.status.busy": "2021-05-26T14:03:11.916721Z",
     "iopub.status.idle": "2021-05-26T14:03:11.925402Z",
     "shell.execute_reply": "2021-05-26T14:03:11.924435Z",
     "shell.execute_reply.started": "2021-05-26T14:03:11.917008Z"
    }
   },
   "outputs": [],
   "source": [
    "brain_df['mask'].value_counts()\n"
   ]
  },
  {
   "cell_type": "code",
   "execution_count": null,
   "metadata": {
    "execution": {
     "iopub.execute_input": "2021-05-26T14:03:11.929391Z",
     "iopub.status.busy": "2021-05-26T14:03:11.929109Z",
     "iopub.status.idle": "2021-05-26T14:03:13.298353Z",
     "shell.execute_reply": "2021-05-26T14:03:13.296993Z",
     "shell.execute_reply.started": "2021-05-26T14:03:11.929363Z"
    }
   },
   "outputs": [],
   "source": [
    "for i in range(len(brain_df)):\n",
    "    if cv2.imread(brain_df.mask_path[i]).max() > 0:\n",
    "        break\n",
    "\n",
    "plt.figure(figsize=(8,8))\n",
    "plt.subplot(1,2,1)\n",
    "plt.imshow(cv2.imread(brain_df.mask_path[i]));\n",
    "plt.title('Tumor Location')\n",
    "\n",
    "plt.subplot(1,2,2)\n",
    "plt.imshow(cv2.imread(brain_df.image_path[i]));"
   ]
  },
  {
   "cell_type": "code",
   "execution_count": null,
   "metadata": {
    "execution": {
     "iopub.execute_input": "2021-05-26T14:03:13.30054Z",
     "iopub.status.busy": "2021-05-26T14:03:13.300226Z",
     "iopub.status.idle": "2021-05-26T14:03:13.320804Z",
     "shell.execute_reply": "2021-05-26T14:03:13.319504Z",
     "shell.execute_reply.started": "2021-05-26T14:03:13.300516Z"
    }
   },
   "outputs": [],
   "source": [
    "brain_df_train = brain_df.drop(columns=['patient_id'])\n",
    "brain_df_train['mask'] = brain_df_train['mask'].apply(lambda x: str(x))\n",
    "brain_df_train.info()"
   ]
  },
  {
   "cell_type": "code",
   "execution_count": null,
   "metadata": {
    "execution": {
     "iopub.execute_input": "2021-05-26T14:03:13.322498Z",
     "iopub.status.busy": "2021-05-26T14:03:13.322154Z",
     "iopub.status.idle": "2021-05-26T14:03:13.33219Z",
     "shell.execute_reply": "2021-05-26T14:03:13.33084Z",
     "shell.execute_reply.started": "2021-05-26T14:03:13.322464Z"
    }
   },
   "outputs": [],
   "source": [
    "from sklearn.model_selection import train_test_split\n",
    "train, test = train_test_split(brain_df_train, test_size=0.15)\n"
   ]
  },
  {
   "cell_type": "code",
   "execution_count": null,
   "metadata": {
    "execution": {
     "iopub.execute_input": "2021-05-26T14:03:13.33378Z",
     "iopub.status.busy": "2021-05-26T14:03:13.333538Z",
     "iopub.status.idle": "2021-05-26T14:03:15.174162Z",
     "shell.execute_reply": "2021-05-26T14:03:15.17232Z",
     "shell.execute_reply.started": "2021-05-26T14:03:13.333756Z"
    }
   },
   "outputs": [],
   "source": [
    "from keras_preprocessing.image import ImageDataGenerator\n",
    "\n",
    "datagen = ImageDataGenerator(rescale=1./255., validation_split=0.1)\n",
    "\n",
    "train_generator = datagen.flow_from_dataframe(train,\n",
    "                                              directory='./',\n",
    "                                              x_col='image_path',\n",
    "                                              y_col='mask',\n",
    "                                              subset='training',\n",
    "                                              class_mode='categorical',\n",
    "                                              batch_size=16,\n",
    "                                              shuffle=True,\n",
    "                                              target_size=(256,256)\n",
    "                                             )\n",
    "valid_generator = datagen.flow_from_dataframe(train,\n",
    "                                              directory='./',\n",
    "                                              x_col='image_path',\n",
    "                                              y_col='mask',\n",
    "                                              subset='validation',\n",
    "                                              class_mode='categorical',\n",
    "                                              batch_size=16,\n",
    "                                              shuffle=True,\n",
    "                                              target_size=(256,256)\n",
    "                                             )\n",
    "test_datagen = ImageDataGenerator(rescale=1./255.)\n",
    "test_generator = test_datagen.flow_from_dataframe(test,\n",
    "                                                  directory='./',\n",
    "                                                  x_col='image_path',\n",
    "                                                  y_col='mask',\n",
    "                                                  class_mode='categorical',\n",
    "                                                  batch_size=16,\n",
    "                                                  shuffle=False,\n",
    "                                                  target_size=(256,256)\n",
    "                                                 )"
   ]
  },
  {
   "cell_type": "code",
   "execution_count": null,
   "metadata": {
    "execution": {
     "iopub.execute_input": "2021-05-26T14:03:15.17586Z",
     "iopub.status.busy": "2021-05-26T14:03:15.175522Z",
     "iopub.status.idle": "2021-05-26T14:03:15.183008Z",
     "shell.execute_reply": "2021-05-26T14:03:15.18227Z",
     "shell.execute_reply.started": "2021-05-26T14:03:15.175826Z"
    }
   },
   "outputs": [],
   "source": [
    "brain_df_mask = brain_df[brain_df['mask'] == 1]\n",
    "brain_df_mask.shape"
   ]
  },
  {
   "cell_type": "code",
   "execution_count": null,
   "metadata": {
    "execution": {
     "iopub.execute_input": "2021-05-26T14:03:15.184305Z",
     "iopub.status.busy": "2021-05-26T14:03:15.184005Z",
     "iopub.status.idle": "2021-05-26T14:03:15.209286Z",
     "shell.execute_reply": "2021-05-26T14:03:15.208153Z",
     "shell.execute_reply.started": "2021-05-26T14:03:15.184278Z"
    }
   },
   "outputs": [],
   "source": [
    "# creating test, train and val sets\n",
    "X_train, X_val = train_test_split(brain_df_mask, test_size=0.15)\n",
    "X_test, X_val = train_test_split(X_val, test_size=0.5)\n",
    "print(\"Train size is {}, valid size is {} & test size is {}\".format(len(X_train), len(X_val), len(X_test)))\n",
    "\n",
    "train_ids = list(X_train.image_path)\n",
    "train_mask = list(X_train.mask_path)\n",
    "\n",
    "val_ids = list(X_val.image_path)\n",
    "val_mask= list(X_val.mask_path)"
   ]
  },
  {
   "cell_type": "code",
   "execution_count": null,
   "metadata": {
    "execution": {
     "iopub.execute_input": "2021-05-26T14:03:15.210576Z",
     "iopub.status.busy": "2021-05-26T14:03:15.210339Z",
     "iopub.status.idle": "2021-05-26T14:03:15.48762Z",
     "shell.execute_reply": "2021-05-26T14:03:15.486459Z",
     "shell.execute_reply.started": "2021-05-26T14:03:15.210551Z"
    }
   },
   "outputs": [],
   "source": [
    "class DataGenerator(tf.keras.utils.Sequence):\n",
    "  def __init__(self, ids , mask, image_dir = './', batch_size = 16, img_h = 256, img_w = 256, shuffle = True):\n",
    "\n",
    "    self.ids = ids\n",
    "    self.mask = mask\n",
    "    self.image_dir = image_dir\n",
    "    self.batch_size = batch_size\n",
    "    self.img_h = img_h\n",
    "    self.img_w = img_w\n",
    "    self.shuffle = shuffle\n",
    "    self.on_epoch_end()\n",
    "\n",
    "  def __len__(self):\n",
    "    'Get the number of batches per epoch'\n",
    "\n",
    "    return int(np.floor(len(self.ids)) / self.batch_size)\n",
    "\n",
    "  def __getitem__(self, index):\n",
    "    'Generate a batch of data'\n",
    "\n",
    "    #generate index of batch_size length\n",
    "    indexes = self.indexes[index* self.batch_size : (index+1) * self.batch_size]\n",
    "\n",
    "    #get the ImageId corresponding to the indexes created above based on batch size\n",
    "    list_ids = [self.ids[i] for i in indexes]\n",
    "\n",
    "    #get the MaskId corresponding to the indexes created above based on batch size\n",
    "    list_mask = [self.mask[i] for i in indexes]\n",
    "\n",
    "\n",
    "    #generate data for the X(features) and y(label)\n",
    "    X, y = self.__data_generation(list_ids, list_mask)\n",
    "    return X, y\n",
    "\n",
    "  def on_epoch_end(self):\n",
    "    #getting the array of indices based on the input dataframe\n",
    "    self.indexes = np.arange(len(self.ids))\n",
    "\n",
    "    #if shuffle is true, shuffle the indices\n",
    "    if self.shuffle:\n",
    "      np.random.shuffle(self.indexes)\n",
    "\n",
    "  def __data_generation(self, list_ids, list_mask):\n",
    "    X = np.empty((self.batch_size, self.img_h, self.img_w, 3))\n",
    "    y = np.empty((self.batch_size, self.img_h, self.img_w, 1))\n",
    "    for i in range(len(list_ids)):\n",
    "      img_path = str(list_ids[i])\n",
    "      mask_path = str(list_mask[i])      \n",
    "      img = io.imread(img_path)\n",
    "      mask = io.imread(mask_path)\n",
    "      img = cv2.resize(img,(self.img_h,self.img_w))\n",
    "      img = np.array(img, dtype = np.float64)      \n",
    "      mask = cv2.resize(mask,(self.img_h,self.img_w))\n",
    "      mask = np.array(mask, dtype = np.float64)\n",
    "      img -= img.mean()\n",
    "      img /= img.std()\n",
    "      mask -= mask.mean()\n",
    "      mask /= mask.std()\n",
    "      X[i,] = img\n",
    "      y[i,] = np.expand_dims(mask, axis = 2)\n",
    "    y = (y > 0).astype(int)\n",
    "    return X, y\n",
    "\n",
    "train_data = DataGenerator(train_ids, train_mask)\n",
    "val_data = DataGenerator(val_ids, val_mask)"
   ]
  },
  {
   "cell_type": "code",
   "execution_count": null,
   "metadata": {
    "execution": {
     "iopub.execute_input": "2021-05-26T14:03:15.48904Z",
     "iopub.status.busy": "2021-05-26T14:03:15.488714Z",
     "iopub.status.idle": "2021-05-26T14:03:20.721125Z",
     "shell.execute_reply": "2021-05-26T14:03:20.719695Z",
     "shell.execute_reply.started": "2021-05-26T14:03:15.48901Z"
    }
   },
   "outputs": [],
   "source": [
    "%env SM_FRAMEWORK=tf.keras\n",
    "!pip install segmentation-models"
   ]
  },
  {
   "cell_type": "code",
   "execution_count": null,
   "metadata": {
    "execution": {
     "iopub.execute_input": "2021-05-26T14:04:09.864088Z",
     "iopub.status.busy": "2021-05-26T14:04:09.863679Z"
    }
   },
   "outputs": [],
   "source": [
    "from segmentation_models import Unet\n",
    "from segmentation_models import get_preprocessing\n",
    "from segmentation_models.losses import bce_jaccard_loss\n",
    "from segmentation_models.metrics import iou_score,FScore\n",
    "\n",
    "BACKBONE = 'resnet34'\n",
    "m1 = FScore()\n",
    "model = Unet(BACKBONE, encoder_weights='imagenet')\n",
    "model.compile('Adagrad', loss = 'binary_crossentropy', metrics=[iou_score,m1])\n",
    "model.fit(\n",
    "    train_data,\n",
    "    batch_size=16,\n",
    "    epochs=100,\n",
    "    validation_data = val_data\n",
    ")"
   ]
  },
  {
   "cell_type": "code",
   "execution_count": null,
   "metadata": {
    "execution": {
     "iopub.status.busy": "2021-05-26T14:03:23.645274Z",
     "iopub.status.idle": "2021-05-26T14:03:23.645757Z"
    }
   },
   "outputs": [],
   "source": [
    "def prediction(test,model):\n",
    "    mask, image_id, has_mask = [], [], []\n",
    "    for i in test.image_path:\n",
    "        img = io.imread(i)\n",
    "        #normalizing\n",
    "        img = img *1./255.\n",
    "        #reshaping\n",
    "        img = cv2.resize(img, (256,256))\n",
    "        # converting img into array\n",
    "        img = np.array(img, dtype=np.float64)\n",
    "        #reshaping the image from 256,256,3 to 1,256,256,3\n",
    "        img = np.reshape(img, (1,256,256,3))\n",
    "\n",
    "        X = np.empty((1,256,256,3))\n",
    "        # read the image\n",
    "        img = io.imread(i)\n",
    "        #resizing the image and coverting them to array of type float64\n",
    "        img = cv2.resize(img, (256,256))\n",
    "        img = np.array(img, dtype=np.float64)\n",
    "        \n",
    "        # standardising the image\n",
    "        img -= img.mean()\n",
    "        img /= img.std()\n",
    "        #converting the shape of image from 256,256,3 to 1,256,256,3\n",
    "        X[0,] = img\n",
    "        \n",
    "        #make prediction of mask\n",
    "        predict = model.predict(X)\n",
    "        # if sum of predicted mask is 0 then there is not tumour\n",
    "        if predict.round().astype(int).sum()==0:\n",
    "            image_id.append(i)\n",
    "            has_mask.append(0)\n",
    "            mask.append('No mask :)')\n",
    "        else:\n",
    "        #if the sum of pixel values are more than 0, then there is tumour\n",
    "            image_id.append(i)\n",
    "            has_mask.append(1)\n",
    "            mask.append(predict)\n",
    "    return pd.DataFrame({'image_path': image_id,'predicted_mask': mask,'has_mask': has_mask})"
   ]
  },
  {
   "cell_type": "code",
   "execution_count": null,
   "metadata": {
    "execution": {
     "iopub.status.busy": "2021-05-26T14:03:23.646519Z",
     "iopub.status.idle": "2021-05-26T14:03:23.646984Z"
    }
   },
   "outputs": [],
   "source": [
    "# making prediction\n",
    "df_pred = prediction(test, model)\n",
    "df_pred"
   ]
  },
  {
   "cell_type": "code",
   "execution_count": null,
   "metadata": {
    "execution": {
     "iopub.status.busy": "2021-05-26T14:03:23.647698Z",
     "iopub.status.idle": "2021-05-26T14:03:23.648157Z"
    }
   },
   "outputs": [],
   "source": [
    "# merging original and prediction df\n",
    "df_pred = test.merge(df_pred, on='image_path')\n",
    "df_pred.head(10)"
   ]
  },
  {
   "cell_type": "code",
   "execution_count": null,
   "metadata": {
    "execution": {
     "iopub.status.busy": "2021-05-26T14:03:23.648891Z",
     "iopub.status.idle": "2021-05-26T14:03:23.649388Z"
    }
   },
   "outputs": [],
   "source": [
    "#visualizing prediction\n",
    "count = 0\n",
    "fig, axs = plt.subplots(15,5, figsize=(30,70))\n",
    "\n",
    "for i in range(len(df_pred)):\n",
    "    if df_pred.has_mask[i]==1 and count<15:\n",
    "        #read mri images\n",
    "        img = io.imread(df_pred.image_path[i])\n",
    "        img = cv2.cvtColor(img, cv2.COLOR_BGR2RGB)\n",
    "        axs[count][0].imshow(img)\n",
    "        axs[count][0].title.set_text('Brain MRI')\n",
    "        \n",
    "        #read original mask\n",
    "        mask = io.imread(df_pred.mask_path[i])\n",
    "        axs[count][1].imshow(mask)\n",
    "        axs[count][1].title.set_text('Original Mask')\n",
    "        \n",
    "        #read predicted mask\n",
    "        pred = np.array(df_pred.predicted_mask[i]).squeeze().round()\n",
    "        axs[count][2].imshow(pred)\n",
    "        axs[count][2].title.set_text('AI predicted mask')\n",
    "        \n",
    "        #overlay original mask with MRI\n",
    "        img[mask==255] = (255,0,0)\n",
    "        axs[count][3].imshow(img)\n",
    "        axs[count][3].title.set_text('Brain MRI with original mask (Ground Truth)')\n",
    "        \n",
    "        #overlay predicted mask and MRI\n",
    "        img_ = io.imread(df_pred.image_path[i])\n",
    "        img_ = cv2.cvtColor(img_, cv2.COLOR_BGR2RGB)\n",
    "        img_[pred==1] = (0,255,150)\n",
    "        axs[count][4].imshow(img_)\n",
    "        axs[count][4].title.set_text('MRI with AI PREDICTED MASK')\n",
    "        \n",
    "        count +=1\n",
    "    if (count==15):\n",
    "        break\n",
    "\n",
    "fig.tight_layout()        "
   ]
  },
  {
   "cell_type": "code",
   "execution_count": null,
   "metadata": {
    "execution": {
     "iopub.status.busy": "2021-05-26T14:03:23.650166Z",
     "iopub.status.idle": "2021-05-26T14:03:23.650636Z"
    }
   },
   "outputs": [],
   "source": [
    "plt.figure(figsize=(12,5))\n",
    "plt.subplot(1,3,1)\n",
    "plt.plot(h.history['loss']);\n",
    "plt.plot(h.history['val_loss']);\n",
    "plt.title(\"SEG Model focal tversky Loss\");\n",
    "plt.ylabel(\"focal tversky loss\");\n",
    "plt.xlabel(\"Epochs\");\n",
    "plt.legend(['train', 'val']);\n",
    "\n",
    "plt.subplot(1,3,2)\n",
    "plt.plot(h.history['iou_coef']);\n",
    "plt.plot(h.history['val_iou_coef']);\n",
    "plt.title(\"SEG Model IOU score\");\n",
    "plt.ylabel(\"IOU Score\");\n",
    "plt.xlabel(\"Epochs\");\n",
    "plt.legend(['train', 'val']);\n",
    "\n",
    "plt.subplot(1,3,3)\n",
    "plt.plot(h.history['dice_coef']);\n",
    "plt.plot(h.history['val_dice_coef']);\n",
    "plt.title(\"SEG Model dice score\");\n",
    "plt.ylabel(\"dice Score\");\n",
    "plt.xlabel(\"Epochs\");\n",
    "plt.legend(['train', 'val']);"
   ]
  },
  {
   "cell_type": "code",
   "execution_count": null,
   "metadata": {
    "execution": {
     "iopub.status.busy": "2021-05-26T14:03:23.651374Z",
     "iopub.status.idle": "2021-05-26T14:03:23.651836Z"
    }
   },
   "outputs": [],
   "source": [
    "test_ids = list(X_test.image_path)\n",
    "test_mask = list(X_test.mask_path)\n",
    "test_data = DataGenerator(test_ids, test_mask)\n",
    "_,iou = model.evaluate(test_data)\n",
    "print(\"Segmentation IOU score is {:.2f}%\".format(iou*100))\n",
    "print(\"Segmentation DSC score is {:.2f}%\".format(dsc*100))"
   ]
  },
  {
   "cell_type": "code",
   "execution_count": null,
   "metadata": {},
   "outputs": [],
   "source": []
  }
 ],
 "metadata": {
  "kernelspec": {
   "display_name": "Python 3",
   "language": "python",
   "name": "python3"
  },
  "language_info": {
   "codemirror_mode": {
    "name": "ipython",
    "version": 3
   },
   "file_extension": ".py",
   "mimetype": "text/x-python",
   "name": "python",
   "nbconvert_exporter": "python",
   "pygments_lexer": "ipython3",
   "version": "3.8.8"
  }
 },
 "nbformat": 4,
 "nbformat_minor": 4
}
